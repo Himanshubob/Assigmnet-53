{
 "cells": [
  {
   "cell_type": "markdown",
   "id": "138d3493",
   "metadata": {},
   "source": [
    "# Q1. What is Random Forest Regressor?"
   ]
  },
  {
   "cell_type": "markdown",
   "id": "04cb88f3",
   "metadata": {},
   "source": [
    "# ans.. random forest is the group of the desicision tree"
   ]
  },
  {
   "cell_type": "markdown",
   "id": "3739b9cc",
   "metadata": {},
   "source": [
    "# Q2. How does Random Forest Regressor reduce the risk of overfitting?"
   ]
  },
  {
   "cell_type": "markdown",
   "id": "1523bd74",
   "metadata": {},
   "source": [
    "# ans.. random forest is the gruop of the desicion tree   some tree desicion tree crest the random forest and  all DT oput  fint the mean  the mean reduce the overfiting"
   ]
  },
  {
   "cell_type": "markdown",
   "id": "9724b122",
   "metadata": {},
   "source": [
    "# Q3. How does Random Forest Regressor aggregate the predictions of multiple decision trees?"
   ]
  },
  {
   "cell_type": "markdown",
   "id": "0cbffee0",
   "metadata": {},
   "source": [
    "# ans..Random forest is an ensemble learning algorithm that uses a collection of decision trees to make predictions. Each decision tree is trained on a different subset of the data, and the predictions of all the trees are averaged to produce the final prediction."
   ]
  },
  {
   "cell_type": "markdown",
   "id": "91397b8f",
   "metadata": {},
   "source": [
    "# Q4. What are the hyperparameters of Random Forest Regressor?"
   ]
  },
  {
   "cell_type": "markdown",
   "id": "b3e3046e",
   "metadata": {},
   "source": [
    "# Hyperparameters to Increase the Predictive Powern_estimators: Number of trees the algorithm builds before averaging the predictions. max_feature ,max_depath"
   ]
  },
  {
   "cell_type": "markdown",
   "id": "398f4114",
   "metadata": {},
   "source": [
    "# Q5. What is the difference between Random Forest Regressor and Decision Tree Regressor?"
   ]
  },
  {
   "cell_type": "markdown",
   "id": "e65d66e0",
   "metadata": {},
   "source": [
    "# ans.. the random forest regression is the gorup of the the Decision tree regression \n",
    "# Deision tree regression tree is the single tree"
   ]
  },
  {
   "cell_type": "markdown",
   "id": "85087605",
   "metadata": {},
   "source": [
    "# Q6. What are the advantages and disadvantages of Random Forest Regressor?"
   ]
  },
  {
   "cell_type": "markdown",
   "id": "e9e17002",
   "metadata": {},
   "source": [
    "# ans..It requires much computational power as well as resources as it builds numerous trees to combine their outputs."
   ]
  },
  {
   "cell_type": "markdown",
   "id": "eb24dd4f",
   "metadata": {},
   "source": [
    "# Q7. What is the output of Random Forest Regressor?"
   ]
  },
  {
   "cell_type": "markdown",
   "id": "dcd77c3b",
   "metadata": {},
   "source": [
    "# ans.. average of those predictions as its 'final' output"
   ]
  },
  {
   "cell_type": "markdown",
   "id": "8702d2a7",
   "metadata": {},
   "source": [
    "# Q8. Can Random Forest Regressor be used for classification tasks?"
   ]
  },
  {
   "cell_type": "markdown",
   "id": "c4be0e49",
   "metadata": {},
   "source": [
    "# ans..Both Random forest and Gradient boosting ensemble methods can be used to perform classification. Random Forests can be used to perform classification tasks, whereas the gradient boosting method can only perform regression"
   ]
  },
  {
   "cell_type": "code",
   "execution_count": null,
   "id": "185a9e81",
   "metadata": {},
   "outputs": [],
   "source": []
  }
 ],
 "metadata": {
  "kernelspec": {
   "display_name": "Python 3 (ipykernel)",
   "language": "python",
   "name": "python3"
  },
  "language_info": {
   "codemirror_mode": {
    "name": "ipython",
    "version": 3
   },
   "file_extension": ".py",
   "mimetype": "text/x-python",
   "name": "python",
   "nbconvert_exporter": "python",
   "pygments_lexer": "ipython3",
   "version": "3.10.9"
  }
 },
 "nbformat": 4,
 "nbformat_minor": 5
}
